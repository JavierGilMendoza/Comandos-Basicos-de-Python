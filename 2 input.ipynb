{
 "cells": [
  {
   "cell_type": "markdown",
   "id": "fa42f7be",
   "metadata": {},
   "source": [
    "# input"
   ]
  },
  {
   "cell_type": "markdown",
   "id": "1c66303e",
   "metadata": {},
   "source": [
    "Almacena información que el usuario introduce"
   ]
  },
  {
   "cell_type": "code",
   "execution_count": 2,
   "id": "a1fa2e90",
   "metadata": {},
   "outputs": [
    {
     "data": {
      "text/plain": [
       "'Javi'"
      ]
     },
     "execution_count": 2,
     "metadata": {},
     "output_type": "execute_result"
    }
   ],
   "source": [
    "input('¿Cómo te llamas?') # Esto espera a que el usuario ingrese algo y presione Enter."
   ]
  },
  {
   "cell_type": "markdown",
   "id": "98863459",
   "metadata": {},
   "source": [
    "`input`siempre retorna `strings` por defecto (Una `string` son un conjunto de letras, tal como una frase)"
   ]
  }
 ],
 "metadata": {
  "kernelspec": {
   "display_name": "base",
   "language": "python",
   "name": "python3"
  },
  "language_info": {
   "codemirror_mode": {
    "name": "ipython",
    "version": 3
   },
   "file_extension": ".py",
   "mimetype": "text/x-python",
   "name": "python",
   "nbconvert_exporter": "python",
   "pygments_lexer": "ipython3",
   "version": "3.12.4"
  }
 },
 "nbformat": 4,
 "nbformat_minor": 5
}
