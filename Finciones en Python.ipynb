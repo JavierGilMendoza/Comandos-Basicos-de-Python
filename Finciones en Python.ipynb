{
 "cells": [
  {
   "cell_type": "markdown",
   "id": "8615a702-dd0e-4b30-bdd2-d878c3124a93",
   "metadata": {},
   "source": [
    "# Sintaxis\n",
    "En Python, una definición de función tiene las siguientes características:\n",
    "- La palabra clave def\n",
    "- Un nombre de función\n",
    "- Paréntesis ’()’, y dentro de los paréntesis los parámetros de entrada, aunque los parámetros de entrada sean opcionales.\n",
    "- Dos puntos ’:’\n",
    "- Algún bloque de código para ejecutar\n",
    "- Una sentencia de retorno (opcional)"
   ]
  },
  {
   "cell_type": "code",
   "execution_count": 2,
   "id": "edbf43da-9acd-49c3-8d0d-1316470a43da",
   "metadata": {},
   "outputs": [],
   "source": [
    "# función sin parámetros o retorno de valores\n",
    "def ola_caracola():\n",
    "  print(\"Hola caracola\")"
   ]
  },
  {
   "cell_type": "code",
   "execution_count": 3,
   "id": "e8b41657-bbf3-4db8-a374-24fe79c93a2b",
   "metadata": {},
   "outputs": [
    {
     "name": "stdout",
     "output_type": "stream",
     "text": [
      "Hola caracola\n"
     ]
    }
   ],
   "source": [
    "ola_caracola()  # llamada a la función, 'Hello!' se muestra en la consola"
   ]
  },
  {
   "cell_type": "code",
   "execution_count": 4,
   "id": "4437a9bb-f79a-45f3-8765-f59c6e819ea7",
   "metadata": {},
   "outputs": [],
   "source": [
    "# función con un parámetro\n",
    "def hola_con_nombre(nombre_pepe):\n",
    "  print(\"Hello \" + nombre_pepe + \"!\")"
   ]
  },
  {
   "cell_type": "code",
   "execution_count": 5,
   "id": "47ebff48-8173-4a22-9c7e-bbb88b778035",
   "metadata": {},
   "outputs": [
    {
     "name": "stdout",
     "output_type": "stream",
     "text": [
      "Hello Pepe!\n"
     ]
    }
   ],
   "source": [
    "hola_con_nombre(\"Pepe\")  # llamada a la función, 'Hello Ada!' se muestra en la consola"
   ]
  },
  {
   "cell_type": "code",
   "execution_count": 6,
   "id": "08b7f49f-eb99-46d5-9635-70bd321c0625",
   "metadata": {},
   "outputs": [],
   "source": [
    "# función con múltiples parámetros con una sentencia de retorno\n",
    "def multiplica(valor1, valor2):\n",
    "  return valor1 * valor2"
   ]
  },
  {
   "cell_type": "code",
   "execution_count": 7,
   "id": "1b64a70c-28b4-455a-80f7-ebf26e450795",
   "metadata": {},
   "outputs": [
    {
     "data": {
      "text/plain": [
       "15"
      ]
     },
     "execution_count": 7,
     "metadata": {},
     "output_type": "execute_result"
    }
   ],
   "source": [
    "multiplica(3, 5)  # muestra 15 en la consola"
   ]
  },
  {
   "cell_type": "markdown",
   "id": "ffda60c2-af9b-4dd4-9d43-9d90bc6b69fa",
   "metadata": {},
   "source": [
    "    "
   ]
  },
  {
   "cell_type": "markdown",
   "id": "8aee61fe-8b6d-4e6e-82af-e89c952cc9b3",
   "metadata": {},
   "source": [
    "    "
   ]
  },
  {
   "cell_type": "markdown",
   "id": "6d6a3aca-f7cb-4dae-ba5e-0b93347aa8a1",
   "metadata": {},
   "source": [
    "    "
   ]
  },
  {
   "cell_type": "markdown",
   "id": "6f2f29fd-cb8b-4a2c-920f-964976bcc565",
   "metadata": {},
   "source": [
    "    "
   ]
  },
  {
   "cell_type": "markdown",
   "id": "eb25bac4-553b-4c73-bb1c-65d8f97e343d",
   "metadata": {},
   "source": [
    "    "
   ]
  },
  {
   "cell_type": "markdown",
   "id": "3a2e7c1c-f0b2-4f6c-b60d-77df22ae3b1e",
   "metadata": {},
   "source": [
    "# Ejercicios de Funciones"
   ]
  },
  {
   "cell_type": "markdown",
   "id": "399d19f3-9418-47dd-91f7-547a1bdb3c21",
   "metadata": {},
   "source": [
    "## Ejercicio 1\n",
    "Escribir una función que muestre por pantalla el saludo ¡Hola amiga! cada vez que se la invoque."
   ]
  },
  {
   "cell_type": "code",
   "execution_count": 15,
   "id": "ae496f6f-fc2d-49a5-a0da-37b6aacdb800",
   "metadata": {},
   "outputs": [
    {
     "name": "stdout",
     "output_type": "stream",
     "text": [
      "¡Hola amiga!\n"
     ]
    }
   ],
   "source": [
    "def hola_amiga():\n",
    "    print('¡Hola amiga!')\n",
    "    return\n",
    "\n",
    "hola_amiga()"
   ]
  },
  {
   "cell_type": "markdown",
   "id": "6d837705-3ca2-4708-a733-5a64f6a7d2dd",
   "metadata": {},
   "source": [
    "    "
   ]
  },
  {
   "cell_type": "markdown",
   "id": "1bcc83dd-4183-49d5-9426-6a4bdbc10eae",
   "metadata": {},
   "source": [
    "    "
   ]
  },
  {
   "cell_type": "markdown",
   "id": "61e41f22-5d9e-49fa-a4a1-057f017f2338",
   "metadata": {},
   "source": [
    "    "
   ]
  },
  {
   "cell_type": "markdown",
   "id": "12edbfbe-ba1f-4fe2-b7d5-81f0d1c1b455",
   "metadata": {},
   "source": [
    "    "
   ]
  },
  {
   "cell_type": "markdown",
   "id": "682e7dd2-7fe3-4953-99e2-fd1f72b61e77",
   "metadata": {},
   "source": [
    "    "
   ]
  },
  {
   "cell_type": "markdown",
   "id": "73238ff3-0f87-4a27-95bb-e2a0a72f84f7",
   "metadata": {},
   "source": [
    "## Ejercicio 2\n",
    "Escribir una función a la que se introduzca una cadena <nombre> y muestre por pantalla el saludo ¡hola <nombre>!."
   ]
  },
  {
   "cell_type": "code",
   "execution_count": 22,
   "id": "a957dff2-581e-4c69-a7fd-18d6079f5b6a",
   "metadata": {},
   "outputs": [
    {
     "name": "stdin",
     "output_type": "stream",
     "text": [
      "Introduce tu nombre: Épale\n"
     ]
    },
    {
     "name": "stdout",
     "output_type": "stream",
     "text": [
      "¡Hola Épale!\n"
     ]
    }
   ],
   "source": [
    "nombre = input(\"Introduce tu nombre:\")\n",
    "\n",
    "def hola_nombre(nombre):\n",
    "    print(\"¡Hola \" + nombre + \"!\")\n",
    "    return\n",
    "\n",
    "hola_nombre(nombre)"
   ]
  }
 ],
 "metadata": {
  "kernelspec": {
   "display_name": "Python 3 (ipykernel)",
   "language": "python",
   "name": "python3"
  },
  "language_info": {
   "codemirror_mode": {
    "name": "ipython",
    "version": 3
   },
   "file_extension": ".py",
   "mimetype": "text/x-python",
   "name": "python",
   "nbconvert_exporter": "python",
   "pygments_lexer": "ipython3",
   "version": "3.12.4"
  }
 },
 "nbformat": 4,
 "nbformat_minor": 5
}
