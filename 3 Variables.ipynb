{
 "cells": [
  {
   "cell_type": "markdown",
   "id": "5dfc1206",
   "metadata": {},
   "source": [
    "# Variables"
   ]
  },
  {
   "cell_type": "markdown",
   "id": "d48018ae",
   "metadata": {},
   "source": [
    "Es una información que el ordenador guarda con un nombre"
   ]
  },
  {
   "cell_type": "code",
   "execution_count": 1,
   "id": "757064f8",
   "metadata": {},
   "outputs": [
    {
     "name": "stdout",
     "output_type": "stream",
     "text": [
      "Hola, Javi. 48 son demasiados años.\n"
     ]
    }
   ],
   "source": [
    "mi_nombre=input('¿Nombre?')\n",
    "mi_edad=input('¿Edad?')\n",
    "print('Hola, ' + mi_nombre + '. ' + mi_edad + ' son demasiados años.')"
   ]
  }
 ],
 "metadata": {
  "kernelspec": {
   "display_name": "base",
   "language": "python",
   "name": "python3"
  },
  "language_info": {
   "codemirror_mode": {
    "name": "ipython",
    "version": 3
   },
   "file_extension": ".py",
   "mimetype": "text/x-python",
   "name": "python",
   "nbconvert_exporter": "python",
   "pygments_lexer": "ipython3",
   "version": "3.12.4"
  }
 },
 "nbformat": 4,
 "nbformat_minor": 5
}
