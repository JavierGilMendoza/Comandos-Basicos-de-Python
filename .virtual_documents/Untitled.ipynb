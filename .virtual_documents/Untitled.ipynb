


# función sin parámetros o retorno de valores
def ola_caracola():
  print("Hola caracola")


ola_caracola()  # llamada a la función, 'Hello!' se muestra en la consola


# función con un parámetro
def hola_con_nombre(nombre_pepe):
  print("Hello " + nombre_pepe + "!")


hola_con_nombre("Pepe")  # llamada a la función, 'Hello Ada!' se muestra en la consola


# función con múltiples parámetros con una sentencia de retorno
def multiplica(valor1, valor2):
  return valor1 * valor2


multiplica(3, 5)  # muestra 15 en la consola























def hola_amiga():
    print('¡Hola amiga!')
    return

hola_amiga()




















nombre = input("Introduce tu nombre:")

def hola_nombre(nombre):
    print("¡Hola " + nombre + "!")
    return

hola_nombre(nombre)
