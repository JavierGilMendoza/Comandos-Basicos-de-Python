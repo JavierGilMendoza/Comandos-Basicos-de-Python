{
 "cells": [
  {
   "cell_type": "markdown",
   "id": "c925bdd1",
   "metadata": {},
   "source": [
    "# Concatenación"
   ]
  },
  {
   "cell_type": "markdown",
   "id": "d13d55a8",
   "metadata": {},
   "source": [
    "Se usa para unir variables y texto"
   ]
  },
  {
   "cell_type": "code",
   "execution_count": 2,
   "id": "16650b9a",
   "metadata": {},
   "outputs": [
    {
     "name": "stdout",
     "output_type": "stream",
     "text": [
      "Hola, soy Javi. Tengo 48 años.\n"
     ]
    }
   ],
   "source": [
    "mi_nombre= input('¿Nombre? ')\n",
    "mi_edad = input('¿Edad? ')\n",
    "print('Hola, soy ' + mi_nombre + '. Tengo ' + mi_edad + ' años.')"
   ]
  }
 ],
 "metadata": {
  "kernelspec": {
   "display_name": "base",
   "language": "python",
   "name": "python3"
  },
  "language_info": {
   "codemirror_mode": {
    "name": "ipython",
    "version": 3
   },
   "file_extension": ".py",
   "mimetype": "text/x-python",
   "name": "python",
   "nbconvert_exporter": "python",
   "pygments_lexer": "ipython3",
   "version": "3.12.4"
  }
 },
 "nbformat": 4,
 "nbformat_minor": 5
}
