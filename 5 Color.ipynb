{
 "cells": [
  {
   "cell_type": "markdown",
   "id": "7f195400",
   "metadata": {},
   "source": [
    "# Color"
   ]
  },
  {
   "cell_type": "markdown",
   "id": "cffb4381",
   "metadata": {},
   "source": [
    "Cambia de color lo que siga a continuación."
   ]
  },
  {
   "cell_type": "code",
   "execution_count": 3,
   "id": "fe4ffb06",
   "metadata": {},
   "outputs": [
    {
     "name": "stdout",
     "output_type": "stream",
     "text": [
      "Ola \u001b[31m ke ase\n",
      "Ola \u001b[31m ke \u001b[0m ase\n",
      "Ola \u001b[31m ke \u001b[0m ase\n"
     ]
    }
   ],
   "source": [
    "print('Ola', '\\033[31m', 'ke', 'ase')\n",
    "print('Ola', '\\033[31m', 'ke', '\\033[0m', 'ase')\n",
    "print('Ola', '\\033[31m', 'ke', '\\033[0m', 'ase')"
   ]
  },
  {
   "cell_type": "markdown",
   "id": "731b536b",
   "metadata": {},
   "source": [
    "`'\\033[0m'` ----> *Por defecto*\n",
    "\n",
    "`'\\033[30m'` --> *Negro*\n",
    "\n",
    "`'\\033[31m'` --> *Rojo*\n",
    "\n",
    "`'\\033[32m'` --> *Verde*\n",
    "\n",
    "`'\\033[33m'` --> *Amarillo*\n",
    "\n",
    "`'\\033[34m'` --> *Azul*\n",
    "\n",
    "`'\\033[35m'` --> *Púrpura*\n",
    "\n",
    "`'\\033[36m'` --> *Cián*\n",
    "\n",
    "`'\\033[37m'` --> *Blanco*"
   ]
  }
 ],
 "metadata": {
  "kernelspec": {
   "display_name": "base",
   "language": "python",
   "name": "python3"
  },
  "language_info": {
   "codemirror_mode": {
    "name": "ipython",
    "version": 3
   },
   "file_extension": ".py",
   "mimetype": "text/x-python",
   "name": "python",
   "nbconvert_exporter": "python",
   "pygments_lexer": "ipython3",
   "version": "3.12.4"
  }
 },
 "nbformat": 4,
 "nbformat_minor": 5
}
