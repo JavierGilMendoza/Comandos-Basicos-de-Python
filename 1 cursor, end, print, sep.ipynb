{
 "cells": [
  {
   "cell_type": "markdown",
   "id": "6db5e272",
   "metadata": {},
   "source": [
    "# cursor"
   ]
  },
  {
   "cell_type": "markdown",
   "id": "76c7549c",
   "metadata": {},
   "source": [
    "Sirve para que el cursor no se muestre"
   ]
  },
  {
   "cell_type": "code",
   "execution_count": 1,
   "id": "fb791b5b",
   "metadata": {},
   "outputs": [
    {
     "name": "stdout",
     "output_type": "stream",
     "text": [
      "\u001b[?25l"
     ]
    }
   ],
   "source": [
    "print('\\033[?25l', end='')"
   ]
  },
  {
   "cell_type": "markdown",
   "id": "c01b22d3",
   "metadata": {},
   "source": []
  },
  {
   "cell_type": "markdown",
   "id": "e0129aee",
   "metadata": {},
   "source": []
  },
  {
   "cell_type": "markdown",
   "id": "ff3755a5",
   "metadata": {},
   "source": []
  },
  {
   "cell_type": "markdown",
   "id": "748331b6",
   "metadata": {},
   "source": []
  },
  {
   "cell_type": "markdown",
   "id": "c6352b96",
   "metadata": {},
   "source": []
  },
  {
   "cell_type": "markdown",
   "id": "f4353bfb",
   "metadata": {},
   "source": [
    "# end"
   ]
  },
  {
   "cell_type": "markdown",
   "id": "c34f1748",
   "metadata": {},
   "source": [
    "`end` le dice al ordenador lo que tiene que hacer al final de print"
   ]
  },
  {
   "cell_type": "code",
   "execution_count": 2,
   "id": "b69a42f7",
   "metadata": {},
   "outputs": [
    {
     "name": "stdout",
     "output_type": "stream",
     "text": [
      "Hola."
     ]
    }
   ],
   "source": [
    "print('Hola', end='.')"
   ]
  },
  {
   "cell_type": "code",
   "execution_count": 3,
   "id": "574212a6",
   "metadata": {},
   "outputs": [
    {
     "name": "stdout",
     "output_type": "stream",
     "text": [
      "Hola.\n",
      "¿Cómo estás?\n"
     ]
    }
   ],
   "source": [
    "print('Hola.', end='\\n') # Esto imprime 'Hola.' y luego un salto de línea.\n",
    "print('¿Cómo estás?')"
   ]
  },
  {
   "cell_type": "code",
   "execution_count": 4,
   "id": "5422153e",
   "metadata": {},
   "outputs": [
    {
     "name": "stdout",
     "output_type": "stream",
     "text": [
      "Hola.\t¿Cómo estás?\n"
     ]
    }
   ],
   "source": [
    "print('Hola.', end='\\t') # Esto imprime 'Hola.' y luego un tabulador.\n",
    "print('¿Cómo estás?') # Esto imprime '¿Cómo estás?' en la misma línea"
   ]
  },
  {
   "cell_type": "code",
   "execution_count": 5,
   "id": "ab435f36",
   "metadata": {},
   "outputs": [
    {
     "name": "stdout",
     "output_type": "stream",
     "text": [
      "Hola.\u000b¿Cómo estás?\n"
     ]
    }
   ],
   "source": [
    "print('Hola.', end='\\v') # Esto imprime 'Hola.' y luego un salto de línea vertical.\n",
    "print('¿Cómo estás?') # Esto imprime '¿Cómo estás?' en la misma línea"
   ]
  },
  {
   "cell_type": "markdown",
   "id": "9303539a",
   "metadata": {},
   "source": []
  },
  {
   "cell_type": "markdown",
   "id": "fd15f8ec",
   "metadata": {},
   "source": []
  },
  {
   "cell_type": "markdown",
   "id": "830ed2b0",
   "metadata": {},
   "source": []
  },
  {
   "cell_type": "markdown",
   "id": "f1c8522b",
   "metadata": {},
   "source": []
  },
  {
   "cell_type": "markdown",
   "id": "47650568",
   "metadata": {},
   "source": []
  },
  {
   "cell_type": "markdown",
   "id": "752f7b1a",
   "metadata": {},
   "source": [
    "# print"
   ]
  },
  {
   "cell_type": "markdown",
   "id": "ebed7134",
   "metadata": {},
   "source": [
    "Muestra lo que está escrito entre los paréntesis y las comillas. (Valen tanto las comillas `\"` como el apóstrofo `'`)"
   ]
  },
  {
   "cell_type": "code",
   "execution_count": 6,
   "id": "c9c89a41",
   "metadata": {},
   "outputs": [
    {
     "name": "stdout",
     "output_type": "stream",
     "text": [
      "Hola\n"
     ]
    }
   ],
   "source": [
    "print('Hola')"
   ]
  },
  {
   "cell_type": "markdown",
   "id": "8a9b1c1b",
   "metadata": {},
   "source": [
    "Si escribimos `#` antes de una frase, eso no se muestra. Es simplemente un comentario"
   ]
  },
  {
   "cell_type": "code",
   "execution_count": 7,
   "id": "be0b703e",
   "metadata": {},
   "outputs": [
    {
     "name": "stdout",
     "output_type": "stream",
     "text": [
      "Hola\n"
     ]
    }
   ],
   "source": [
    "print('Hola') # Esto es un comentario, no se imprime"
   ]
  },
  {
   "cell_type": "markdown",
   "id": "489c6b0e",
   "metadata": {},
   "source": []
  },
  {
   "cell_type": "markdown",
   "id": "ae990709",
   "metadata": {},
   "source": []
  },
  {
   "cell_type": "markdown",
   "id": "795dcd26",
   "metadata": {},
   "source": []
  },
  {
   "cell_type": "markdown",
   "id": "dccc8261",
   "metadata": {},
   "source": []
  },
  {
   "cell_type": "markdown",
   "id": "dbd0bfa3",
   "metadata": {},
   "source": []
  },
  {
   "cell_type": "markdown",
   "id": "3b3f37d0",
   "metadata": {},
   "source": [
    "# sep"
   ]
  },
  {
   "cell_type": "markdown",
   "id": "ea0aa1d5",
   "metadata": {},
   "source": [
    "Se usa para que las diferentes cosas que se imprimen no salgan con doble espacio entre ellas"
   ]
  },
  {
   "cell_type": "code",
   "execution_count": 8,
   "id": "2ab1f89d",
   "metadata": {},
   "outputs": [
    {
     "name": "stdout",
     "output_type": "stream",
     "text": [
      "\u001b[0m 1 \u001b[33m 2\n",
      "\u001b[0m1\u001b[33m2\n"
     ]
    }
   ],
   "source": [
    "print('\\033[0m', '1', '\\033[33m', '2') # Esto imprime '1' y '2' con un espacio entre ellos, pero sin salto de línea al final.\n",
    "print('\\033[0m', '1', '\\033[33m', '2', sep='') # Esto imprime '1' y '2' con un espacio entre ellos, pero sin salto de línea al final."
   ]
  }
 ],
 "metadata": {
  "kernelspec": {
   "display_name": "base",
   "language": "python",
   "name": "python3"
  },
  "language_info": {
   "codemirror_mode": {
    "name": "ipython",
    "version": 3
   },
   "file_extension": ".py",
   "mimetype": "text/x-python",
   "name": "python",
   "nbconvert_exporter": "python",
   "pygments_lexer": "ipython3",
   "version": "3.12.4"
  }
 },
 "nbformat": 4,
 "nbformat_minor": 5
}
